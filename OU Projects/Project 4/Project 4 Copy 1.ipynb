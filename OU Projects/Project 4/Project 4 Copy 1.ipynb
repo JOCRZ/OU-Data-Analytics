{
 "cells": [
  {
   "cell_type": "markdown",
   "id": "18de9ce1",
   "metadata": {},
   "source": [
    "# Project 4: Exploring the UK's milk imports and exports\n",
    "by Tony Hirst and Michel Wermelinger, 19 November 2015, 28 March 2016, 18 October 2017, minor edit 20 December 2017\n",
    "\n",
    "This is the project notebook for Part 4 of The Open University's Learn to Code for Data Analysis course.\n",
    "\n",
    "A country's economy depends, sometimes heavily, on its exports and imports. The United Nations Comtrade database provides data on global trade. It will be used to analyse the UK's imports and exports of milk and cream in 2015:\n",
    "\n",
    "How much does the UK export and import and is the balance positive (more exports than imports)?\n",
    "\n",
    "Which are the main trading partners, i.e. from/to which countries does the UK import/export the most?\n",
    "\n",
    "Which are the regular customers, i.e. which countries buy milk from the UK every month?\n",
    "\n",
    "Which countries does the UK both import from and export to?"
   ]
  },
  {
   "cell_type": "markdown",
   "id": "da5f8e6a",
   "metadata": {},
   "source": [
    "# Loading Data"
   ]
  },
  {
   "cell_type": "code",
   "execution_count": 1,
   "id": "320bc583",
   "metadata": {},
   "outputs": [],
   "source": [
    "import pandas as pd"
   ]
  },
  {
   "cell_type": "code",
   "execution_count": 2,
   "id": "f7724d64",
   "metadata": {},
   "outputs": [],
   "source": [
    "df = pd.read_csv(r'C:\\Users\\Jojo3\\Downloads\\Project 4\\comtrade_milk_uk_jan_jul_15.csv', dtype={'Commodity Code':str})"
   ]
  },
  {
   "cell_type": "markdown",
   "id": "07204ecb",
   "metadata": {},
   "source": [
    "# Cleaning Data"
   ]
  },
  {
   "cell_type": "code",
   "execution_count": 3,
   "id": "89b5078f",
   "metadata": {},
   "outputs": [
    {
     "data": {
      "text/plain": [
       "Index(['Classification', 'Year', 'Period', 'Period Desc.', 'Aggregate Level',\n",
       "       'Is Leaf Code', 'Trade Flow Code', 'Trade Flow', 'Reporter Code',\n",
       "       'Reporter', 'Reporter ISO', 'Partner Code', 'Partner', 'Partner ISO',\n",
       "       '2nd Partner Code', '2nd Partner', '2nd Partner ISO',\n",
       "       'Customs Proc. Code', 'Customs', 'Mode of Transport Code',\n",
       "       'Mode of Transport', 'Commodity Code', 'Commodity', 'Qty Unit Code',\n",
       "       'Qty Unit', 'Qty', 'Alt Qty Unit Code', 'Alt Qty Unit', 'Alt Qty',\n",
       "       'Netweight (kg)', 'Gross weight (kg)', 'Trade Value (US$)',\n",
       "       'CIF Trade Value (US$)', 'FOB Trade Value (US$)', 'Flag'],\n",
       "      dtype='object')"
      ]
     },
     "execution_count": 3,
     "metadata": {},
     "output_type": "execute_result"
    }
   ],
   "source": [
    "df.columns"
   ]
  },
  {
   "cell_type": "markdown",
   "id": "3bdf34de",
   "metadata": {},
   "source": [
    "From above columns we need only relevant ones like Period,Trade Flow,Partner,Commodity,Trade Value (US$) and we need to change the Commodity name look convinent for the table."
   ]
  },
  {
   "cell_type": "code",
   "execution_count": 4,
   "id": "c39da5b2",
   "metadata": {},
   "outputs": [],
   "source": [
    "def milkType(code):\n",
    "    if code == '0401': # neither concentrated nor sweetened\n",
    "        return 'unprocessed'\n",
    "    if code == '0402': # concentrated or sweetened\n",
    "        return 'processed' \n",
    "    return 'unknown'\n",
    "\n",
    "COMMODITY = 'Milk and cream'\n",
    "df[COMMODITY] = df['Commodity Code'].apply(milkType)\n",
    "MONTH = 'Period'\n",
    "PARTNER = 'Partner'\n",
    "FLOW = 'Trade Flow'\n",
    "VALUE = 'Trade Value (US$)'\n",
    "headings = [MONTH, PARTNER, FLOW, COMMODITY, VALUE]\n",
    "df = df[headings]"
   ]
  },
  {
   "cell_type": "code",
   "execution_count": 5,
   "id": "dfb2bebb",
   "metadata": {},
   "outputs": [],
   "source": [
    "df = df.dropna()"
   ]
  },
  {
   "cell_type": "code",
   "execution_count": 6,
   "id": "9c2786a6",
   "metadata": {},
   "outputs": [],
   "source": [
    "df = df[df['Partner'] != 'World']"
   ]
  },
  {
   "cell_type": "markdown",
   "id": "49479ca8",
   "metadata": {},
   "source": [
    "# Finding Answers"
   ]
  },
  {
   "cell_type": "markdown",
   "id": "5b97b07b",
   "metadata": {},
   "source": [
    "Q)How much does the UK export and import and is the balance positive (more exports than imports)?"
   ]
  },
  {
   "cell_type": "code",
   "execution_count": 7,
   "id": "c8c2a264",
   "metadata": {},
   "outputs": [
    {
     "name": "stdout",
     "output_type": "stream",
     "text": [
      "Trade Flow\n",
      "Exports    265029661\n",
      "Imports    156483978\n",
      "Name: Trade Value (US$), dtype: int64\n"
     ]
    },
    {
     "data": {
      "image/png": "[encoded data removed]",
      "text/plain": [
       "<Figure size 640x480 with 1 Axes>"
      ]
     },
     "metadata": {},
     "output_type": "display_data"
    }
   ],
   "source": [
    "df_trade = df.groupby('Trade Flow')\n",
    "df_trade['Trade Value (US$)'].aggregate(sum)\n",
    "\n",
    "df_trade['Trade Value (US$)'].aggregate(sum).plot(kind='barh')\n",
    "\n",
    "print(df_trade['Trade Value (US$)'].aggregate(sum))"
   ]
  },
  {
   "cell_type": "markdown",
   "id": "f10cf2f0",
   "metadata": {},
   "source": [
    "Q)How much does the UK Trade of unprocessed and processed Milk is the balance positive (more processed than unprocessed)?"
   ]
  },
  {
   "cell_type": "code",
   "execution_count": 8,
   "id": "d99175bb",
   "metadata": {},
   "outputs": [
    {
     "name": "stdout",
     "output_type": "stream",
     "text": [
      "Milk and cream\n",
      "processed      220039823\n",
      "unprocessed    201473816\n",
      "Name: Trade Value (US$), dtype: int64\n"
     ]
    },
    {
     "data": {
      "image/png": "[encoded data removed]",
      "text/plain": [
       "<Figure size 640x480 with 1 Axes>"
      ]
     },
     "metadata": {},
     "output_type": "display_data"
    }
   ],
   "source": [
    "df_trade = df.groupby(COMMODITY)\n",
    "df_trade['Trade Value (US$)'].aggregate(sum)\n",
    "\n",
    "df_trade['Trade Value (US$)'].aggregate(sum).plot(kind='barh')\n",
    "\n",
    "print(df_trade['Trade Value (US$)'].aggregate(sum))"
   ]
  },
  {
   "cell_type": "markdown",
   "id": "a07582a4",
   "metadata": {},
   "source": [
    "Q) Which are the main trading partners, i.e. from/to which countries does the UK import/export the most?"
   ]
  },
  {
   "cell_type": "code",
   "execution_count": 9,
   "id": "1a66c539",
   "metadata": {},
   "outputs": [
    {
     "data": {
      "text/plain": [
       "Partner\n",
       "Spain                       4910615\n",
       "Sweden                      1962413\n",
       "United Arab Emirates          27225\n",
       "United Kingdom                 2302\n",
       "United States of America      46044\n",
       "Name: Trade Value (US$), dtype: int64"
      ]
     },
     "execution_count": 9,
     "metadata": {},
     "output_type": "execute_result"
    }
   ],
   "source": [
    "df_partner_import = df[df[\"Trade Flow\"]=='Imports'].groupby(['Partner'])['Trade Value (US$)'].aggregate(sum)\n",
    "df_partner_import.tail(5)"
   ]
  },
  {
   "cell_type": "code",
   "execution_count": 10,
   "id": "1c3c0889",
   "metadata": {},
   "outputs": [
    {
     "name": "stdout",
     "output_type": "stream",
     "text": [
      "The UK Imports from 21 countries.\n",
      "The 5 biggest Importers to the UK are:\n"
     ]
    },
    {
     "data": {
      "text/plain": [
       "<AxesSubplot:ylabel='Partner'>"
      ]
     },
     "execution_count": 10,
     "metadata": {},
     "output_type": "execute_result"
    },
    {
     "data": {
      "image/png": "[encoded data removed]",
      "text/plain": [
       "<Figure size 640x480 with 1 Axes>"
      ]
     },
     "metadata": {},
     "output_type": "display_data"
    }
   ],
   "source": [
    "imports = df[df[FLOW] == 'Imports']\n",
    "grouped = imports.groupby([PARTNER])\n",
    "print('The UK Imports from', len(grouped), 'countries.')\n",
    "print('The 5 biggest Importers to the UK are:')\n",
    "totalImports = grouped[VALUE].aggregate(sum).sort_values(inplace=False,ascending=False)\n",
    "totalImports.head(10).plot(kind='barh')"
   ]
  },
  {
   "cell_type": "code",
   "execution_count": 11,
   "id": "ad4da766",
   "metadata": {},
   "outputs": [
    {
     "name": "stdout",
     "output_type": "stream",
     "text": [
      "The UK Exports from 107 countries.\n",
      "The 5 Biggest Exporters to the UK are:\n"
     ]
    },
    {
     "data": {
      "text/plain": [
       "<AxesSubplot:ylabel='Partner'>"
      ]
     },
     "execution_count": 11,
     "metadata": {},
     "output_type": "execute_result"
    },
    {
     "data": {
      "image/png": "[encoded data removed]",
      "text/plain": [
       "<Figure size 640x480 with 1 Axes>"
      ]
     },
     "metadata": {},
     "output_type": "display_data"
    }
   ],
   "source": [
    "exports = df[df[FLOW] == 'Exports']\n",
    "grouped = exports.groupby([PARTNER])\n",
    "print('The UK Exports from', len(grouped), 'countries.')\n",
    "print('The 5 Biggest Exporters to the UK are:')\n",
    "totalExports =grouped[VALUE].aggregate(sum).sort_values(inplace=False,ascending=False)\n",
    "totalExports.head(10).plot(kind='barh')"
   ]
  },
  {
   "cell_type": "markdown",
   "id": "a309219e",
   "metadata": {},
   "source": [
    "Q) Which are the regular customers, i.e. which countries buy milk from the UK every month?"
   ]
  },
  {
   "cell_type": "code",
   "execution_count": 19,
   "id": "5e4e66c5",
   "metadata": {},
   "outputs": [
    {
     "name": "stdout",
     "output_type": "stream",
     "text": [
      "                     Trade Value (US$)           \n",
      "                                   len        sum\n",
      "Partner                                          \n",
      "Cyprus                              10     101579\n",
      "Ireland                             10  128155891\n",
      "Italy                               10     173689\n",
      "China, Hong Kong SAR                10    9482458\n",
      "China                               10   14111163\n",
      "Hungary                             10      71378\n",
      "Portugal                            10      25855\n",
      "Denmark                             10     335068\n",
      "France                              10    9381762\n",
      "Spain                               10    1229172\n",
      "Belgium                             10    7209121\n",
      "Sweden                              10      34972\n",
      "Poland                              10     106659\n",
      "United Arab Emirates                10    1590593\n",
      "Netherlands                         10   18018603\n",
      "Malta                               10     129516\n",
      "Germany                             10   10828464\n",
      "\n",
      "\n",
      "76 % of the total UK exports are due to these regular customers.\n",
      "Total regular Trading countries 17\n"
     ]
    }
   ],
   "source": [
    "exports = df[df[FLOW] == 'Exports']\n",
    "\n",
    "def regularpartners(g):\n",
    "    return (len(g) <=12) | (g['Trade Value (US$)'].sum()>200000) & (g[COMMODITY] == 'processed').all()\n",
    "\n",
    "\n",
    "strong_exporters = exports.groupby(['Trade Flow','Partner']).filter(regularpartners)\n",
    "strong_exporters = strong_exporters.groupby([PARTNER])[['Trade Value (US$)']].aggregate([len,sum])\n",
    "strong_exporters = strong_exporters.sort_values(by=('Trade Value (US$)', 'len'), inplace=False, ascending=False).head(17)\n",
    "print(strong_exporters)\n",
    "print('\\n')\n",
    "print(round(percentage),'% of the total UK exports are due to these regular customers.')\n",
    "print('Total regular Trading countries 17')"
   ]
  },
  {
   "cell_type": "code",
   "execution_count": 13,
   "id": "2e460da4",
   "metadata": {},
   "outputs": [],
   "source": [
    "exports['Trade Value (US$)'].sum()\n",
    "strong_exporters['Trade Value (US$)'].sum()\n",
    "\n",
    "percentage = (200985943/265029661) * 100\n"
   ]
  },
  {
   "cell_type": "markdown",
   "id": "d8ab36b2",
   "metadata": {},
   "source": [
    "Q) Which countries does the UK both import from and export to?"
   ]
  },
  {
   "cell_type": "code",
   "execution_count": 15,
   "id": "723464bb",
   "metadata": {},
   "outputs": [],
   "source": [
    "bi_directional = pd.pivot_table(df,index=[PARTNER], columns=[FLOW], \n",
    "                        values=VALUE, aggfunc=sum)"
   ]
  },
  {
   "cell_type": "code",
   "execution_count": 16,
   "id": "f6f22a67",
   "metadata": {},
   "outputs": [],
   "source": [
    "bi_directional = bi_directional.dropna()"
   ]
  },
  {
   "cell_type": "code",
   "execution_count": 17,
   "id": "be052e5c",
   "metadata": {},
   "outputs": [
    {
     "name": "stdout",
     "output_type": "stream",
     "text": [
      "Trade Flow                    Exports     Imports\n",
      "Partner                                          \n",
      "Austria                       56279.0       780.0\n",
      "Belgium                     7209121.0  14325697.0\n",
      "Czech Rep.                     2590.0    486889.0\n",
      "Denmark                      335068.0  13681759.0\n",
      "France                      9381762.0  28314091.0\n",
      "Germany                    10828464.0  21899123.0\n",
      "Hungary                       71378.0      4762.0\n",
      "Ireland                   128155891.0  46263897.0\n",
      "Italy                        173689.0    321635.0\n",
      "Latvia                          567.0       870.0\n",
      "Lithuania                      1172.0    318407.0\n",
      "Netherlands                18018603.0  17658912.0\n",
      "Poland                       106659.0   4933917.0\n",
      "Portugal                      25855.0    308654.0\n",
      "Romania                          36.0    975996.0\n",
      "Slovakia                         65.0     39990.0\n",
      "Spain                       1229172.0   4910615.0\n",
      "Sweden                        34972.0   1962413.0\n",
      "United Arab Emirates        1590593.0     27225.0\n",
      "United States of America     548910.0     46044.0\n",
      "\n",
      "\n",
      "There are 20 countries that we have bi-directional trade\n"
     ]
    }
   ],
   "source": [
    "print(bi_directional)\n",
    "print('\\n')\n",
    "print('There are 20 countries that we have bi-directional trade')"
   ]
  },
  {
   "cell_type": "markdown",
   "id": "fdfbce69",
   "metadata": {},
   "source": [
    "Q) Which Commodity is more Exported and Imported"
   ]
  },
  {
   "cell_type": "code",
   "execution_count": 23,
   "id": "04060d2f",
   "metadata": {},
   "outputs": [
    {
     "name": "stdout",
     "output_type": "stream",
     "text": [
      "Milk and cream\n",
      "processed      88079867\n",
      "unprocessed    68404111\n",
      "Name: Trade Value (US$), dtype: int64\n"
     ]
    },
    {
     "data": {
      "image/png": "[encoded data removed]",
      "text/plain": [
       "<Figure size 640x480 with 1 Axes>"
      ]
     },
     "metadata": {},
     "output_type": "display_data"
    }
   ],
   "source": [
    "imports = df[df[FLOW] == 'Imports']\n",
    "df_trade = imports.groupby(COMMODITY)\n",
    "df_trade['Trade Value (US$)'].aggregate(sum)\n",
    "\n",
    "df_trade['Trade Value (US$)'].aggregate(sum).plot(kind='barh')\n",
    "\n",
    "print(df_trade['Trade Value (US$)'].aggregate(sum))"
   ]
  },
  {
   "cell_type": "code",
   "execution_count": 21,
   "id": "c3cf7d98",
   "metadata": {},
   "outputs": [
    {
     "name": "stdout",
     "output_type": "stream",
     "text": [
      "Milk and cream\n",
      "processed      131959956\n",
      "unprocessed    133069705\n",
      "Name: Trade Value (US$), dtype: int64\n"
     ]
    },
    {
     "data": {
      "image/png": "[encoded data removed]",
      "text/plain": [
       "<Figure size 640x480 with 1 Axes>"
      ]
     },
     "metadata": {},
     "output_type": "display_data"
    }
   ],
   "source": [
    "imports = df[df[FLOW] == 'Exports']\n",
    "df_trade = imports.groupby(COMMODITY)\n",
    "df_trade['Trade Value (US$)'].aggregate(sum)\n",
    "\n",
    "df_trade['Trade Value (US$)'].aggregate(sum).plot(kind='barh')\n",
    "\n",
    "print(df_trade['Trade Value (US$)'].aggregate(sum))"
   ]
  },
  {
   "cell_type": "markdown",
   "id": "fb883186",
   "metadata": {},
   "source": [
    "# Conslusion\n",
    "There is Total of 108 contries UK Trade with in 2015. The Milk products are more Exported than imported, The commodity more imported is processed. The most traded commodity is also processed milk. UK imports from 21 countries and Ireland is the on the top of the list. There are 17 countries that we trade regularly and they take 76% of UK's total Exports."
   ]
  },
  {
   "cell_type": "code",
   "execution_count": null,
   "id": "58c323a3",
   "metadata": {},
   "outputs": [],
   "source": []
  }
 ],
 "metadata": {
  "kernelspec": {
   "display_name": "Python 3 (ipykernel)",
   "language": "python",
   "name": "python3"
  },
  "language_info": {
   "codemirror_mode": {
    "name": "ipython",
    "version": 3
   },
   "file_extension": ".py",
   "mimetype": "text/x-python",
   "name": "python",
   "nbconvert_exporter": "python",
   "pygments_lexer": "ipython3",
   "version": "3.9.13"
  }
 },
 "nbformat": 4,
 "nbformat_minor": 5
}
