{
 "cells": [
  {
   "cell_type": "markdown",
   "id": "0ef24656",
   "metadata": {},
   "source": [
    "# Project 1: Deaths by tuberculosis"
   ]
  },
  {
   "cell_type": "markdown",
   "id": "b8249754",
   "metadata": {},
   "source": [
    "Given the population and number of deaths due to TB in some countries during one year, the following questions will be answered:\n",
    "\n",
    "What is the total, maximum, minimum and average number of deaths in that year?\n",
    "Which countries have the most and the least deaths?\n",
    "What is the death rate (deaths per 100,000 inhabitants) for each country?\n",
    "Which countries have the lowest and highest death rate?\n",
    "The death rate allows for a better comparison of countries with widely different population sizes."
   ]
  },
  {
   "cell_type": "markdown",
   "id": "03831b7e",
   "metadata": {},
   "source": [
    "Data set we are going to use for analyze is 'WHO POP TB some.xls'"
   ]
  },
  {
   "cell_type": "markdown",
   "id": "35f96e15",
   "metadata": {},
   "source": [
    "This project data set is pre-cleaned only thing need to do is analyze and find insights."
   ]
  },
  {
   "cell_type": "code",
   "execution_count": 182,
   "id": "1e2dee41",
   "metadata": {},
   "outputs": [],
   "source": [
    "import pandas as pd"
   ]
  },
  {
   "cell_type": "code",
   "execution_count": 183,
   "id": "771f4857",
   "metadata": {},
   "outputs": [
    {
     "data": {
      "text/html": [
       "<div>\n",
       "<style scoped>\n",
       "    .dataframe tbody tr th:only-of-type {\n",
       "        vertical-align: middle;\n",
       "    }\n",
       "\n",
       "    .dataframe tbody tr th {\n",
       "        vertical-align: top;\n",
       "    }\n",
       "\n",
       "    .dataframe thead th {\n",
       "        text-align: right;\n",
       "    }\n",
       "</style>\n",
       "<table border=\"1\" class=\"dataframe\">\n",
       "  <thead>\n",
       "    <tr style=\"text-align: right;\">\n",
       "      <th></th>\n",
       "      <th>Country</th>\n",
       "      <th>Population (1000s)</th>\n",
       "      <th>TB deaths</th>\n",
       "    </tr>\n",
       "  </thead>\n",
       "  <tbody>\n",
       "    <tr>\n",
       "      <th>0</th>\n",
       "      <td>Angola</td>\n",
       "      <td>21472</td>\n",
       "      <td>6900</td>\n",
       "    </tr>\n",
       "    <tr>\n",
       "      <th>1</th>\n",
       "      <td>Brazil</td>\n",
       "      <td>200362</td>\n",
       "      <td>4400</td>\n",
       "    </tr>\n",
       "    <tr>\n",
       "      <th>2</th>\n",
       "      <td>China</td>\n",
       "      <td>1393337</td>\n",
       "      <td>41000</td>\n",
       "    </tr>\n",
       "    <tr>\n",
       "      <th>3</th>\n",
       "      <td>Equatorial Guinea</td>\n",
       "      <td>757</td>\n",
       "      <td>67</td>\n",
       "    </tr>\n",
       "    <tr>\n",
       "      <th>4</th>\n",
       "      <td>Guinea-Bissau</td>\n",
       "      <td>1704</td>\n",
       "      <td>1200</td>\n",
       "    </tr>\n",
       "    <tr>\n",
       "      <th>5</th>\n",
       "      <td>India</td>\n",
       "      <td>1252140</td>\n",
       "      <td>240000</td>\n",
       "    </tr>\n",
       "    <tr>\n",
       "      <th>6</th>\n",
       "      <td>Mozambique</td>\n",
       "      <td>25834</td>\n",
       "      <td>18000</td>\n",
       "    </tr>\n",
       "    <tr>\n",
       "      <th>7</th>\n",
       "      <td>Portugal</td>\n",
       "      <td>10608</td>\n",
       "      <td>140</td>\n",
       "    </tr>\n",
       "    <tr>\n",
       "      <th>8</th>\n",
       "      <td>Russian Federation</td>\n",
       "      <td>142834</td>\n",
       "      <td>17000</td>\n",
       "    </tr>\n",
       "    <tr>\n",
       "      <th>9</th>\n",
       "      <td>Sao Tome and Principe</td>\n",
       "      <td>193</td>\n",
       "      <td>18</td>\n",
       "    </tr>\n",
       "    <tr>\n",
       "      <th>10</th>\n",
       "      <td>South Africa</td>\n",
       "      <td>52776</td>\n",
       "      <td>25000</td>\n",
       "    </tr>\n",
       "    <tr>\n",
       "      <th>11</th>\n",
       "      <td>Timor-Leste</td>\n",
       "      <td>1133</td>\n",
       "      <td>990</td>\n",
       "    </tr>\n",
       "  </tbody>\n",
       "</table>\n",
       "</div>"
      ],
      "text/plain": [
       "                  Country  Population (1000s)  TB deaths\n",
       "0                  Angola               21472       6900\n",
       "1                  Brazil              200362       4400\n",
       "2                   China             1393337      41000\n",
       "3       Equatorial Guinea                 757         67\n",
       "4           Guinea-Bissau                1704       1200\n",
       "5                   India             1252140     240000\n",
       "6              Mozambique               25834      18000\n",
       "7                Portugal               10608        140\n",
       "8      Russian Federation              142834      17000\n",
       "9   Sao Tome and Principe                 193         18\n",
       "10           South Africa               52776      25000\n",
       "11            Timor-Leste                1133        990"
      ]
     },
     "execution_count": 183,
     "metadata": {},
     "output_type": "execute_result"
    }
   ],
   "source": [
    "df = pd.read_csv(r'C:\\Users\\Jojo3\\Downloads\\Project 1 Copy 2\\WHO POP TB some.csv')\n",
    "df"
   ]
  },
  {
   "cell_type": "markdown",
   "id": "f1e9cc6e",
   "metadata": {},
   "source": [
    "From the initial analysis there are countires name that are popular and there are countries name that i am hearing for the first time. Next step is to find the answers from the data set. Before that we need to set varables for column to make it easy to call the columns when needed.\n",
    "df is the the varable set for the whole data set. df - data frame. The data set was in xls format i converted it to csv because there are can occure UTF error or other format error while uploding xls file."
   ]
  },
  {
   "cell_type": "code",
   "execution_count": 184,
   "id": "58aad5c5",
   "metadata": {},
   "outputs": [
    {
     "data": {
      "text/html": [
       "<div>\n",
       "<style scoped>\n",
       "    .dataframe tbody tr th:only-of-type {\n",
       "        vertical-align: middle;\n",
       "    }\n",
       "\n",
       "    .dataframe tbody tr th {\n",
       "        vertical-align: top;\n",
       "    }\n",
       "\n",
       "    .dataframe thead th {\n",
       "        text-align: right;\n",
       "    }\n",
       "</style>\n",
       "<table border=\"1\" class=\"dataframe\">\n",
       "  <thead>\n",
       "    <tr style=\"text-align: right;\">\n",
       "      <th></th>\n",
       "      <th>Country</th>\n",
       "      <th>Population (1000s)</th>\n",
       "      <th>TB deaths</th>\n",
       "    </tr>\n",
       "  </thead>\n",
       "  <tbody>\n",
       "    <tr>\n",
       "      <th>0</th>\n",
       "      <td>Angola</td>\n",
       "      <td>21472</td>\n",
       "      <td>6900</td>\n",
       "    </tr>\n",
       "    <tr>\n",
       "      <th>1</th>\n",
       "      <td>Brazil</td>\n",
       "      <td>200362</td>\n",
       "      <td>4400</td>\n",
       "    </tr>\n",
       "    <tr>\n",
       "      <th>2</th>\n",
       "      <td>China</td>\n",
       "      <td>1393337</td>\n",
       "      <td>41000</td>\n",
       "    </tr>\n",
       "    <tr>\n",
       "      <th>3</th>\n",
       "      <td>Equatorial Guinea</td>\n",
       "      <td>757</td>\n",
       "      <td>67</td>\n",
       "    </tr>\n",
       "    <tr>\n",
       "      <th>4</th>\n",
       "      <td>Guinea-Bissau</td>\n",
       "      <td>1704</td>\n",
       "      <td>1200</td>\n",
       "    </tr>\n",
       "    <tr>\n",
       "      <th>5</th>\n",
       "      <td>India</td>\n",
       "      <td>1252140</td>\n",
       "      <td>240000</td>\n",
       "    </tr>\n",
       "    <tr>\n",
       "      <th>6</th>\n",
       "      <td>Mozambique</td>\n",
       "      <td>25834</td>\n",
       "      <td>18000</td>\n",
       "    </tr>\n",
       "    <tr>\n",
       "      <th>7</th>\n",
       "      <td>Portugal</td>\n",
       "      <td>10608</td>\n",
       "      <td>140</td>\n",
       "    </tr>\n",
       "    <tr>\n",
       "      <th>8</th>\n",
       "      <td>Russian Federation</td>\n",
       "      <td>142834</td>\n",
       "      <td>17000</td>\n",
       "    </tr>\n",
       "    <tr>\n",
       "      <th>9</th>\n",
       "      <td>Sao Tome and Principe</td>\n",
       "      <td>193</td>\n",
       "      <td>18</td>\n",
       "    </tr>\n",
       "    <tr>\n",
       "      <th>10</th>\n",
       "      <td>South Africa</td>\n",
       "      <td>52776</td>\n",
       "      <td>25000</td>\n",
       "    </tr>\n",
       "    <tr>\n",
       "      <th>11</th>\n",
       "      <td>Timor-Leste</td>\n",
       "      <td>1133</td>\n",
       "      <td>990</td>\n",
       "    </tr>\n",
       "  </tbody>\n",
       "</table>\n",
       "</div>"
      ],
      "text/plain": [
       "                  Country  Population (1000s)  TB deaths\n",
       "0                  Angola               21472       6900\n",
       "1                  Brazil              200362       4400\n",
       "2                   China             1393337      41000\n",
       "3       Equatorial Guinea                 757         67\n",
       "4           Guinea-Bissau                1704       1200\n",
       "5                   India             1252140     240000\n",
       "6              Mozambique               25834      18000\n",
       "7                Portugal               10608        140\n",
       "8      Russian Federation              142834      17000\n",
       "9   Sao Tome and Principe                 193         18\n",
       "10           South Africa               52776      25000\n",
       "11            Timor-Leste                1133        990"
      ]
     },
     "execution_count": 184,
     "metadata": {},
     "output_type": "execute_result"
    }
   ],
   "source": [
    "list = df[['Country','Population (1000s)','TB deaths']]\n",
    "list"
   ]
  },
  {
   "cell_type": "markdown",
   "id": "772182b5",
   "metadata": {},
   "source": [
    "Each column in a dataframe is an example of a series However, pandas does provide a mechanism for you to get and display one or more selected columns as a new dataframe in its own right. To do this you need to use a list."
   ]
  },
  {
   "cell_type": "code",
   "execution_count": 185,
   "id": "30b8fca7",
   "metadata": {},
   "outputs": [
    {
     "data": {
      "text/html": [
       "<div>\n",
       "<style scoped>\n",
       "    .dataframe tbody tr th:only-of-type {\n",
       "        vertical-align: middle;\n",
       "    }\n",
       "\n",
       "    .dataframe tbody tr th {\n",
       "        vertical-align: top;\n",
       "    }\n",
       "\n",
       "    .dataframe thead th {\n",
       "        text-align: right;\n",
       "    }\n",
       "</style>\n",
       "<table border=\"1\" class=\"dataframe\">\n",
       "  <thead>\n",
       "    <tr style=\"text-align: right;\">\n",
       "      <th></th>\n",
       "      <th>Country</th>\n",
       "    </tr>\n",
       "  </thead>\n",
       "  <tbody>\n",
       "    <tr>\n",
       "      <th>0</th>\n",
       "      <td>Angola</td>\n",
       "    </tr>\n",
       "    <tr>\n",
       "      <th>1</th>\n",
       "      <td>Brazil</td>\n",
       "    </tr>\n",
       "    <tr>\n",
       "      <th>2</th>\n",
       "      <td>China</td>\n",
       "    </tr>\n",
       "    <tr>\n",
       "      <th>3</th>\n",
       "      <td>Equatorial Guinea</td>\n",
       "    </tr>\n",
       "    <tr>\n",
       "      <th>4</th>\n",
       "      <td>Guinea-Bissau</td>\n",
       "    </tr>\n",
       "    <tr>\n",
       "      <th>5</th>\n",
       "      <td>India</td>\n",
       "    </tr>\n",
       "    <tr>\n",
       "      <th>6</th>\n",
       "      <td>Mozambique</td>\n",
       "    </tr>\n",
       "    <tr>\n",
       "      <th>7</th>\n",
       "      <td>Portugal</td>\n",
       "    </tr>\n",
       "    <tr>\n",
       "      <th>8</th>\n",
       "      <td>Russian Federation</td>\n",
       "    </tr>\n",
       "    <tr>\n",
       "      <th>9</th>\n",
       "      <td>Sao Tome and Principe</td>\n",
       "    </tr>\n",
       "    <tr>\n",
       "      <th>10</th>\n",
       "      <td>South Africa</td>\n",
       "    </tr>\n",
       "    <tr>\n",
       "      <th>11</th>\n",
       "      <td>Timor-Leste</td>\n",
       "    </tr>\n",
       "  </tbody>\n",
       "</table>\n",
       "</div>"
      ],
      "text/plain": [
       "                  Country\n",
       "0                  Angola\n",
       "1                  Brazil\n",
       "2                   China\n",
       "3       Equatorial Guinea\n",
       "4           Guinea-Bissau\n",
       "5                   India\n",
       "6              Mozambique\n",
       "7                Portugal\n",
       "8      Russian Federation\n",
       "9   Sao Tome and Principe\n",
       "10           South Africa\n",
       "11            Timor-Leste"
      ]
     },
     "execution_count": 185,
     "metadata": {},
     "output_type": "execute_result"
    }
   ],
   "source": [
    "country = df[['Country']]\n",
    "country"
   ]
  },
  {
   "cell_type": "code",
   "execution_count": 186,
   "id": "b730ce34",
   "metadata": {},
   "outputs": [
    {
     "data": {
      "text/html": [
       "<div>\n",
       "<style scoped>\n",
       "    .dataframe tbody tr th:only-of-type {\n",
       "        vertical-align: middle;\n",
       "    }\n",
       "\n",
       "    .dataframe tbody tr th {\n",
       "        vertical-align: top;\n",
       "    }\n",
       "\n",
       "    .dataframe thead th {\n",
       "        text-align: right;\n",
       "    }\n",
       "</style>\n",
       "<table border=\"1\" class=\"dataframe\">\n",
       "  <thead>\n",
       "    <tr style=\"text-align: right;\">\n",
       "      <th></th>\n",
       "      <th>Population (1000s)</th>\n",
       "    </tr>\n",
       "  </thead>\n",
       "  <tbody>\n",
       "    <tr>\n",
       "      <th>0</th>\n",
       "      <td>21472</td>\n",
       "    </tr>\n",
       "    <tr>\n",
       "      <th>1</th>\n",
       "      <td>200362</td>\n",
       "    </tr>\n",
       "    <tr>\n",
       "      <th>2</th>\n",
       "      <td>1393337</td>\n",
       "    </tr>\n",
       "    <tr>\n",
       "      <th>3</th>\n",
       "      <td>757</td>\n",
       "    </tr>\n",
       "    <tr>\n",
       "      <th>4</th>\n",
       "      <td>1704</td>\n",
       "    </tr>\n",
       "    <tr>\n",
       "      <th>5</th>\n",
       "      <td>1252140</td>\n",
       "    </tr>\n",
       "    <tr>\n",
       "      <th>6</th>\n",
       "      <td>25834</td>\n",
       "    </tr>\n",
       "    <tr>\n",
       "      <th>7</th>\n",
       "      <td>10608</td>\n",
       "    </tr>\n",
       "    <tr>\n",
       "      <th>8</th>\n",
       "      <td>142834</td>\n",
       "    </tr>\n",
       "    <tr>\n",
       "      <th>9</th>\n",
       "      <td>193</td>\n",
       "    </tr>\n",
       "    <tr>\n",
       "      <th>10</th>\n",
       "      <td>52776</td>\n",
       "    </tr>\n",
       "    <tr>\n",
       "      <th>11</th>\n",
       "      <td>1133</td>\n",
       "    </tr>\n",
       "  </tbody>\n",
       "</table>\n",
       "</div>"
      ],
      "text/plain": [
       "    Population (1000s)\n",
       "0                21472\n",
       "1               200362\n",
       "2              1393337\n",
       "3                  757\n",
       "4                 1704\n",
       "5              1252140\n",
       "6                25834\n",
       "7                10608\n",
       "8               142834\n",
       "9                  193\n",
       "10               52776\n",
       "11                1133"
      ]
     },
     "execution_count": 186,
     "metadata": {},
     "output_type": "execute_result"
    }
   ],
   "source": [
    "population = df[['Population (1000s)']]\n",
    "population"
   ]
  },
  {
   "cell_type": "code",
   "execution_count": 187,
   "id": "37c655c0",
   "metadata": {},
   "outputs": [
    {
     "data": {
      "text/html": [
       "<div>\n",
       "<style scoped>\n",
       "    .dataframe tbody tr th:only-of-type {\n",
       "        vertical-align: middle;\n",
       "    }\n",
       "\n",
       "    .dataframe tbody tr th {\n",
       "        vertical-align: top;\n",
       "    }\n",
       "\n",
       "    .dataframe thead th {\n",
       "        text-align: right;\n",
       "    }\n",
       "</style>\n",
       "<table border=\"1\" class=\"dataframe\">\n",
       "  <thead>\n",
       "    <tr style=\"text-align: right;\">\n",
       "      <th></th>\n",
       "      <th>TB deaths</th>\n",
       "    </tr>\n",
       "  </thead>\n",
       "  <tbody>\n",
       "    <tr>\n",
       "      <th>0</th>\n",
       "      <td>6900</td>\n",
       "    </tr>\n",
       "    <tr>\n",
       "      <th>1</th>\n",
       "      <td>4400</td>\n",
       "    </tr>\n",
       "    <tr>\n",
       "      <th>2</th>\n",
       "      <td>41000</td>\n",
       "    </tr>\n",
       "    <tr>\n",
       "      <th>3</th>\n",
       "      <td>67</td>\n",
       "    </tr>\n",
       "    <tr>\n",
       "      <th>4</th>\n",
       "      <td>1200</td>\n",
       "    </tr>\n",
       "    <tr>\n",
       "      <th>5</th>\n",
       "      <td>240000</td>\n",
       "    </tr>\n",
       "    <tr>\n",
       "      <th>6</th>\n",
       "      <td>18000</td>\n",
       "    </tr>\n",
       "    <tr>\n",
       "      <th>7</th>\n",
       "      <td>140</td>\n",
       "    </tr>\n",
       "    <tr>\n",
       "      <th>8</th>\n",
       "      <td>17000</td>\n",
       "    </tr>\n",
       "    <tr>\n",
       "      <th>9</th>\n",
       "      <td>18</td>\n",
       "    </tr>\n",
       "    <tr>\n",
       "      <th>10</th>\n",
       "      <td>25000</td>\n",
       "    </tr>\n",
       "    <tr>\n",
       "      <th>11</th>\n",
       "      <td>990</td>\n",
       "    </tr>\n",
       "  </tbody>\n",
       "</table>\n",
       "</div>"
      ],
      "text/plain": [
       "    TB deaths\n",
       "0        6900\n",
       "1        4400\n",
       "2       41000\n",
       "3          67\n",
       "4        1200\n",
       "5      240000\n",
       "6       18000\n",
       "7         140\n",
       "8       17000\n",
       "9          18\n",
       "10      25000\n",
       "11        990"
      ]
     },
     "execution_count": 187,
     "metadata": {},
     "output_type": "execute_result"
    }
   ],
   "source": [
    "tb_deaths = df[['TB deaths']]\n",
    "tb_deaths"
   ]
  },
  {
   "cell_type": "markdown",
   "id": "cf2c58cf",
   "metadata": {},
   "source": [
    "we have assigned varibales for each columns in the data frame."
   ]
  },
  {
   "cell_type": "markdown",
   "id": "ce4cea5a",
   "metadata": {},
   "source": [
    "Q1) What is the total, maximum, minimum and average number of deaths in that year?\n"
   ]
  },
  {
   "cell_type": "code",
   "execution_count": 188,
   "id": "e850103d",
   "metadata": {},
   "outputs": [
    {
     "name": "stdout",
     "output_type": "stream",
     "text": [
      "Total deaths : 354715\n"
     ]
    }
   ],
   "source": [
    "# total deaths\n",
    "total_deaths = tb_deaths.sum()\n",
    "print('Total deaths :',total_deaths.values[0])"
   ]
  },
  {
   "cell_type": "code",
   "execution_count": 189,
   "id": "99a84f68",
   "metadata": {},
   "outputs": [
    {
     "name": "stdout",
     "output_type": "stream",
     "text": [
      "Maximum deaths : 354715\n"
     ]
    }
   ],
   "source": [
    "# maximum deaths\n",
    "max_deaths = total_deaths.max()\n",
    "print('Maximum deaths :',total_deaths.values[0])"
   ]
  },
  {
   "cell_type": "code",
   "execution_count": 190,
   "id": "5a31eb5f",
   "metadata": {},
   "outputs": [
    {
     "name": "stdout",
     "output_type": "stream",
     "text": [
      "Minimum deaths : 18\n"
     ]
    }
   ],
   "source": [
    "# minimum deaths\n",
    "min_deaths = tb_deaths.min()\n",
    "print('Minimum deaths :',min_deaths.values[0])"
   ]
  },
  {
   "cell_type": "code",
   "execution_count": 191,
   "id": "8babb767",
   "metadata": {},
   "outputs": [
    {
     "name": "stdout",
     "output_type": "stream",
     "text": [
      "Average deaths: 0.11430804182846463\n"
     ]
    }
   ],
   "source": [
    "# averge deaths\n",
    "# the formula is avg_deaths = total_deaths/total_population\n",
    "#we have value of total deaths, what we need is total population\n",
    "\n",
    "total_population = df['Population (1000s)'].sum()\n",
    "\n",
    "avg_deaths = total_deaths/total_population\n",
    "print('Average deaths:',avg_deaths.values[0])"
   ]
  },
  {
   "cell_type": "code",
   "execution_count": 192,
   "id": "d6ffa52c",
   "metadata": {},
   "outputs": [
    {
     "name": "stdout",
     "output_type": "stream",
     "text": [
      "Total deaths : 354715\n",
      "Maximum deaths : 354715\n",
      "Minimum deaths : 18\n",
      "Average deaths: 0.11430804182846463\n"
     ]
    }
   ],
   "source": [
    "# summary of Q1\n",
    "print('Total deaths :',total_deaths.values[0])\n",
    "print('Maximum deaths :',total_deaths.values[0])\n",
    "print('Minimum deaths :',min_deaths.values[0])\n",
    "print('Average deaths:',avg_deaths.values[0])"
   ]
  },
  {
   "cell_type": "markdown",
   "id": "0561832e",
   "metadata": {},
   "source": [
    "#.values\n",
    "In the context of a pandas Series object, the attribute .values returns a numpy array containing the underlying data of the Series. This numpy array does not include any of the metadata that is associated with the Series, such as column names or index labels.\n",
    "The attribute .value is not a valid attribute of a pandas Series, which is why the previous code raised an AttributeError."
   ]
  },
  {
   "cell_type": "markdown",
   "id": "b56cafd5",
   "metadata": {},
   "source": [
    "Q2) Which countries have the most and the least deaths?\n"
   ]
  },
  {
   "cell_type": "code",
   "execution_count": 193,
   "id": "ee7dcb15",
   "metadata": {},
   "outputs": [
    {
     "name": "stdout",
     "output_type": "stream",
     "text": [
      "The country with most deaths: India\n",
      "India death count: 240000\n"
     ]
    }
   ],
   "source": [
    "# Country with most deaths\n",
    "max_tbdeaths_country = df.loc[df['TB deaths'].idxmax(), 'Country']\n",
    "max_tbdeaths_count = df.loc[df['TB deaths'].idxmax(), 'TB deaths']\n",
    "print(\"The country with most deaths:\",max_tbdeaths_country)\n",
    "print(\"{0} death count: {1}\".format(max_tbdeaths_country,max_tbdeaths_count))"
   ]
  },
  {
   "cell_type": "code",
   "execution_count": 194,
   "id": "ca37aebb",
   "metadata": {},
   "outputs": [
    {
     "name": "stdout",
     "output_type": "stream",
     "text": [
      "The country with least deaths: Sao Tome and Principe\n",
      "Sao Tome and Principe death count: 18\n"
     ]
    }
   ],
   "source": [
    "# Country with least deaths\n",
    "min_tbdeaths_country = df.loc[df['TB deaths'].idxmin(), 'Country']\n",
    "min_tbdeaths_count = df.loc[df['TB deaths'].idxmin(), 'TB deaths']\n",
    "print(\"The country with least deaths:\",min_tbdeaths_country)\n",
    "print(\"{0} death count: {1}\".format(min_tbdeaths_country,min_tbdeaths_count))"
   ]
  },
  {
   "cell_type": "code",
   "execution_count": 195,
   "id": "7d153d96",
   "metadata": {},
   "outputs": [
    {
     "name": "stdout",
     "output_type": "stream",
     "text": [
      "The country with most deaths: Timor-Leste\n",
      "Timor-Leste death count: 240000\n",
      "The country with least deaths: Portugal\n",
      "Portugal death count: 18\n"
     ]
    }
   ],
   "source": [
    "#summary Q2\n",
    "print(\"The country with most deaths:\",max_deaths_country)\n",
    "print(\"{0} death count: {1}\".format(max_deaths_country,max_deaths_count))\n",
    "print(\"The country with least deaths:\",min_deaths_country)\n",
    "print(\"{0} death count: {1}\".format(min_deaths_country,min_deaths_count))\n"
   ]
  },
  {
   "cell_type": "markdown",
   "id": "b0b49ae3",
   "metadata": {},
   "source": [
    "Q3) What is the death rate (deaths per 100,000 inhabitants) for each country?"
   ]
  },
  {
   "cell_type": "code",
   "execution_count": 208,
   "id": "b61b0ed4",
   "metadata": {},
   "outputs": [
    {
     "data": {
      "text/html": [
       "<div>\n",
       "<style scoped>\n",
       "    .dataframe tbody tr th:only-of-type {\n",
       "        vertical-align: middle;\n",
       "    }\n",
       "\n",
       "    .dataframe tbody tr th {\n",
       "        vertical-align: top;\n",
       "    }\n",
       "\n",
       "    .dataframe thead th {\n",
       "        text-align: right;\n",
       "    }\n",
       "</style>\n",
       "<table border=\"1\" class=\"dataframe\">\n",
       "  <thead>\n",
       "    <tr style=\"text-align: right;\">\n",
       "      <th></th>\n",
       "      <th>Country</th>\n",
       "      <th>Death rate(100000s)</th>\n",
       "    </tr>\n",
       "  </thead>\n",
       "  <tbody>\n",
       "    <tr>\n",
       "      <th>0</th>\n",
       "      <td>Angola</td>\n",
       "      <td>32134.873323</td>\n",
       "    </tr>\n",
       "    <tr>\n",
       "      <th>1</th>\n",
       "      <td>Brazil</td>\n",
       "      <td>2196.025194</td>\n",
       "    </tr>\n",
       "    <tr>\n",
       "      <th>2</th>\n",
       "      <td>China</td>\n",
       "      <td>2942.575988</td>\n",
       "    </tr>\n",
       "    <tr>\n",
       "      <th>3</th>\n",
       "      <td>Equatorial Guinea</td>\n",
       "      <td>8850.726552</td>\n",
       "    </tr>\n",
       "    <tr>\n",
       "      <th>4</th>\n",
       "      <td>Guinea-Bissau</td>\n",
       "      <td>70422.535211</td>\n",
       "    </tr>\n",
       "    <tr>\n",
       "      <th>5</th>\n",
       "      <td>India</td>\n",
       "      <td>19167.185778</td>\n",
       "    </tr>\n",
       "    <tr>\n",
       "      <th>6</th>\n",
       "      <td>Mozambique</td>\n",
       "      <td>69675.621274</td>\n",
       "    </tr>\n",
       "    <tr>\n",
       "      <th>7</th>\n",
       "      <td>Portugal</td>\n",
       "      <td>1319.758673</td>\n",
       "    </tr>\n",
       "    <tr>\n",
       "      <th>8</th>\n",
       "      <td>Russian Federation</td>\n",
       "      <td>11901.928112</td>\n",
       "    </tr>\n",
       "    <tr>\n",
       "      <th>9</th>\n",
       "      <td>Sao Tome and Principe</td>\n",
       "      <td>9326.424870</td>\n",
       "    </tr>\n",
       "    <tr>\n",
       "      <th>10</th>\n",
       "      <td>South Africa</td>\n",
       "      <td>47370.016674</td>\n",
       "    </tr>\n",
       "    <tr>\n",
       "      <th>11</th>\n",
       "      <td>Timor-Leste</td>\n",
       "      <td>87378.640777</td>\n",
       "    </tr>\n",
       "  </tbody>\n",
       "</table>\n",
       "</div>"
      ],
      "text/plain": [
       "                  Country  Death rate(100000s)\n",
       "0                  Angola         32134.873323\n",
       "1                  Brazil          2196.025194\n",
       "2                   China          2942.575988\n",
       "3       Equatorial Guinea          8850.726552\n",
       "4           Guinea-Bissau         70422.535211\n",
       "5                   India         19167.185778\n",
       "6              Mozambique         69675.621274\n",
       "7                Portugal          1319.758673\n",
       "8      Russian Federation         11901.928112\n",
       "9   Sao Tome and Principe          9326.424870\n",
       "10           South Africa         47370.016674\n",
       "11            Timor-Leste         87378.640777"
      ]
     },
     "execution_count": 208,
     "metadata": {},
     "output_type": "execute_result"
    }
   ],
   "source": [
    "df['Death rate(100000s)'] = (df['TB deaths'] / df['Population (1000s)']) * 100000\n",
    "dr = df[['Country', 'Death rate(100000s)']]\n",
    "dr"
   ]
  },
  {
   "cell_type": "markdown",
   "id": "b12a39ee",
   "metadata": {},
   "source": [
    "Q4) Which countries have the lowest and highest death rate"
   ]
  },
  {
   "cell_type": "code",
   "execution_count": 198,
   "id": "37b90133",
   "metadata": {},
   "outputs": [],
   "source": [
    "max_deaths_rate_country = df.loc[df['Death rate(100000s)'].idxmax(), 'Country']\n",
    "max_deaths_rate = df.loc[df['Death rate(100000s)'].idxmax(), 'Death rate(100000s)']\n",
    "min_deaths_rate_country = df.loc[df['Death rate(100000s)'].idxmin(), 'Country']\n",
    "min_deaths_rate = df.loc[df['Death rate(100000s)'].idxmin(), 'Death rate(100000s)']"
   ]
  },
  {
   "cell_type": "code",
   "execution_count": 199,
   "id": "0a64a252",
   "metadata": {},
   "outputs": [
    {
     "name": "stdout",
     "output_type": "stream",
     "text": [
      "The country with most deaths rate: Timor-Leste\n",
      "The country with least deaths rate: Portugal\n"
     ]
    }
   ],
   "source": [
    "print(\"The country with most deaths rate:\",max_deaths_rate_country)\n",
    "#print(\"{0} death rate count: {1}\".format(max_deaths_rate_country,max_deaths_rate))\n",
    "print(\"The country with least deaths rate:\",min_deaths_rate_country)\n",
    "#print(\"{0} death rate count: {1}\".format(min_deaths_rate_country,min_deaths_rate))"
   ]
  },
  {
   "cell_type": "markdown",
   "id": "b87a9ff3",
   "metadata": {},
   "source": [
    "Extra questions to improve analysis"
   ]
  },
  {
   "cell_type": "code",
   "execution_count": 200,
   "id": "054417eb",
   "metadata": {},
   "outputs": [
    {
     "name": "stdout",
     "output_type": "stream",
     "text": [
      "The most Populated Country: China\n",
      "The least Populated Country: Sao Tome and Principe\n"
     ]
    }
   ],
   "source": [
    "max_populated_country = df.loc[df['Population (1000s)'].idxmax(), 'Country']\n",
    "min_populated_country = df.loc[df['Population (1000s)'].idxmin(), 'Country']\n",
    "print('The most Populated Country:',max_populated_country)\n",
    "print('The least Populated Country:',min_populated_country)"
   ]
  },
  {
   "cell_type": "code",
   "execution_count": 201,
   "id": "12662bf9",
   "metadata": {},
   "outputs": [
    {
     "data": {
      "text/html": [
       "<div>\n",
       "<style scoped>\n",
       "    .dataframe tbody tr th:only-of-type {\n",
       "        vertical-align: middle;\n",
       "    }\n",
       "\n",
       "    .dataframe tbody tr th {\n",
       "        vertical-align: top;\n",
       "    }\n",
       "\n",
       "    .dataframe thead th {\n",
       "        text-align: right;\n",
       "    }\n",
       "</style>\n",
       "<table border=\"1\" class=\"dataframe\">\n",
       "  <thead>\n",
       "    <tr style=\"text-align: right;\">\n",
       "      <th></th>\n",
       "      <th>Country</th>\n",
       "      <th>Population (1000s)</th>\n",
       "      <th>TB deaths</th>\n",
       "      <th>Death rate(100000s)</th>\n",
       "    </tr>\n",
       "  </thead>\n",
       "  <tbody>\n",
       "    <tr>\n",
       "      <th>0</th>\n",
       "      <td>Angola</td>\n",
       "      <td>21472</td>\n",
       "      <td>6900</td>\n",
       "      <td>32134.873323</td>\n",
       "    </tr>\n",
       "    <tr>\n",
       "      <th>1</th>\n",
       "      <td>Brazil</td>\n",
       "      <td>200362</td>\n",
       "      <td>4400</td>\n",
       "      <td>2196.025194</td>\n",
       "    </tr>\n",
       "    <tr>\n",
       "      <th>2</th>\n",
       "      <td>China</td>\n",
       "      <td>1393337</td>\n",
       "      <td>41000</td>\n",
       "      <td>2942.575988</td>\n",
       "    </tr>\n",
       "    <tr>\n",
       "      <th>3</th>\n",
       "      <td>Equatorial Guinea</td>\n",
       "      <td>757</td>\n",
       "      <td>67</td>\n",
       "      <td>8850.726552</td>\n",
       "    </tr>\n",
       "    <tr>\n",
       "      <th>4</th>\n",
       "      <td>Guinea-Bissau</td>\n",
       "      <td>1704</td>\n",
       "      <td>1200</td>\n",
       "      <td>70422.535211</td>\n",
       "    </tr>\n",
       "    <tr>\n",
       "      <th>5</th>\n",
       "      <td>India</td>\n",
       "      <td>1252140</td>\n",
       "      <td>240000</td>\n",
       "      <td>19167.185778</td>\n",
       "    </tr>\n",
       "    <tr>\n",
       "      <th>6</th>\n",
       "      <td>Mozambique</td>\n",
       "      <td>25834</td>\n",
       "      <td>18000</td>\n",
       "      <td>69675.621274</td>\n",
       "    </tr>\n",
       "    <tr>\n",
       "      <th>7</th>\n",
       "      <td>Portugal</td>\n",
       "      <td>10608</td>\n",
       "      <td>140</td>\n",
       "      <td>1319.758673</td>\n",
       "    </tr>\n",
       "    <tr>\n",
       "      <th>8</th>\n",
       "      <td>Russian Federation</td>\n",
       "      <td>142834</td>\n",
       "      <td>17000</td>\n",
       "      <td>11901.928112</td>\n",
       "    </tr>\n",
       "    <tr>\n",
       "      <th>9</th>\n",
       "      <td>Sao Tome and Principe</td>\n",
       "      <td>193</td>\n",
       "      <td>18</td>\n",
       "      <td>9326.424870</td>\n",
       "    </tr>\n",
       "    <tr>\n",
       "      <th>10</th>\n",
       "      <td>South Africa</td>\n",
       "      <td>52776</td>\n",
       "      <td>25000</td>\n",
       "      <td>47370.016674</td>\n",
       "    </tr>\n",
       "    <tr>\n",
       "      <th>11</th>\n",
       "      <td>Timor-Leste</td>\n",
       "      <td>1133</td>\n",
       "      <td>990</td>\n",
       "      <td>87378.640777</td>\n",
       "    </tr>\n",
       "  </tbody>\n",
       "</table>\n",
       "</div>"
      ],
      "text/plain": [
       "                  Country  Population (1000s)  TB deaths  Death rate(100000s)\n",
       "0                  Angola               21472       6900         32134.873323\n",
       "1                  Brazil              200362       4400          2196.025194\n",
       "2                   China             1393337      41000          2942.575988\n",
       "3       Equatorial Guinea                 757         67          8850.726552\n",
       "4           Guinea-Bissau                1704       1200         70422.535211\n",
       "5                   India             1252140     240000         19167.185778\n",
       "6              Mozambique               25834      18000         69675.621274\n",
       "7                Portugal               10608        140          1319.758673\n",
       "8      Russian Federation              142834      17000         11901.928112\n",
       "9   Sao Tome and Principe                 193         18          9326.424870\n",
       "10           South Africa               52776      25000         47370.016674\n",
       "11            Timor-Leste                1133        990         87378.640777"
      ]
     },
     "execution_count": 201,
     "metadata": {},
     "output_type": "execute_result"
    }
   ],
   "source": [
    "df"
   ]
  },
  {
   "cell_type": "code",
   "execution_count": 211,
   "id": "643e7d53",
   "metadata": {},
   "outputs": [
    {
     "data": {
      "image/png": "[encoded data removed]",
      "text/plain": [
       "<Figure size 1000x500 with 2 Axes>"
      ]
     },
     "metadata": {},
     "output_type": "display_data"
    },
    {
     "name": "stdout",
     "output_type": "stream",
     "text": [
      "Total countries on the list: 12\n",
      "Total population : 3103150\n",
      "Total deaths : 354715\n",
      "Population is BLUE & Death rate is RED\n"
     ]
    }
   ],
   "source": [
    "import matplotlib.pyplot as plt\n",
    "\n",
    "# create the population plot\n",
    "df['Population (1000s)'].plot(grid=True, figsize=(10,5))\n",
    "\n",
    "# create the death rate plot on a secondary y-axis\n",
    "ax = df['TB deaths'].plot(secondary_y=True, color='r')\n",
    "\n",
    "# set the y-axis label for population\n",
    "plt.ylabel('Population (1000s)')\n",
    "\n",
    "# set the y-axis label for death rate\n",
    "ax.set_ylabel('Death rate(100000s)')\n",
    "\n",
    "# add a legend\n",
    "plt.legend(loc='upper left')\n",
    "\n",
    "# show the plot\n",
    "plt.show()\n",
    "total_population = population.sum()\n",
    "total_countries = len(df)\n",
    "print('Total countries on the list:',total_countries)\n",
    "print('Total population :',total_population.values[0])\n",
    "print('Total deaths :',total_deaths.values[0])\n",
    "print('Population is BLUE & Death rate is RED')"
   ]
  },
  {
   "cell_type": "code",
   "execution_count": 203,
   "id": "bc6081e9",
   "metadata": {},
   "outputs": [
    {
     "data": {
      "image/png": "[encoded data removed]",
      "text/plain": [
       "<Figure size 640x480 with 1 Axes>"
      ]
     },
     "metadata": {},
     "output_type": "display_data"
    },
    {
     "name": "stdout",
     "output_type": "stream",
     "text": [
      "The most Populated Country: China\n",
      "The least Populated Country: Sao Tome and Principe\n"
     ]
    }
   ],
   "source": [
    "import matplotlib.pyplot as plt\n",
    "\n",
    "# create a bar chart of population by country\n",
    "plt.bar(df['Country'], df['Population (1000s)'])\n",
    "\n",
    "# set the x-axis label\n",
    "plt.xlabel('Country')\n",
    "\n",
    "# set the y-axis label\n",
    "plt.ylabel('Population (1000s)')\n",
    "\n",
    "# rotate the x-axis labels to prevent overlap\n",
    "plt.xticks(rotation=90)\n",
    "\n",
    "# show the plot\n",
    "plt.show()\n",
    "print('The most Populated Country:',max_populated_country)\n",
    "print('The least Populated Country:',min_populated_country)"
   ]
  },
  {
   "cell_type": "code",
   "execution_count": 206,
   "id": "9a56535d",
   "metadata": {},
   "outputs": [
    {
     "data": {
      "image/png": "[encoded data removed]",
      "text/plain": [
       "<Figure size 640x480 with 1 Axes>"
      ]
     },
     "metadata": {},
     "output_type": "display_data"
    },
    {
     "name": "stdout",
     "output_type": "stream",
     "text": [
      "The country with most deaths: India\n",
      "The country with least deaths: Sao Tome and Principe\n"
     ]
    }
   ],
   "source": [
    "import matplotlib.pyplot as plt\n",
    "\n",
    "# create a bar chart of population by country\n",
    "plt.bar(df['Country'], df['TB deaths'])\n",
    "\n",
    "# set the x-axis label\n",
    "plt.xlabel('Country')\n",
    "\n",
    "# set the y-axis label\n",
    "plt.ylabel('TB deaths')\n",
    "\n",
    "# rotate the x-axis labels to prevent overlap\n",
    "plt.xticks(rotation=90)\n",
    "\n",
    "# show the plot\n",
    "plt.show()\n",
    "\n",
    "print(\"The country with most deaths:\",max_tbdeaths_country)\n",
    "print(\"The country with least deaths:\",min_tbdeaths_country)\n"
   ]
  },
  {
   "cell_type": "code",
   "execution_count": 207,
   "id": "e8f9efa6",
   "metadata": {},
   "outputs": [
    {
     "data": {
      "image/png": "[encoded data removed]",
      "text/plain": [
       "<Figure size 640x480 with 1 Axes>"
      ]
     },
     "metadata": {},
     "output_type": "display_data"
    },
    {
     "name": "stdout",
     "output_type": "stream",
     "text": [
      "The country with most deaths rate: Timor-Leste\n",
      "The country with least deaths rate: Portugal\n"
     ]
    }
   ],
   "source": [
    "import matplotlib.pyplot as plt\n",
    "\n",
    "# create a pie chart of total population by country\n",
    "plt.pie(df['Death rate(100000s)'], labels=df['Country'])\n",
    "\n",
    "# add a title\n",
    "plt.title('Total Death rate by Country')\n",
    "\n",
    "# show the plot\n",
    "plt.show()\n",
    "print(\"The country with most deaths rate:\",max_deaths_country)\n",
    "print(\"The country with least deaths rate:\",min_deaths_country)\n"
   ]
  },
  {
   "cell_type": "markdown",
   "id": "99b6ad63",
   "metadata": {},
   "source": [
    "# Conclusion"
   ]
  },
  {
   "cell_type": "markdown",
   "id": "e1f42f48",
   "metadata": {},
   "source": [
    "When we analyze the data set the country that most affected by deaths is india and most populated is china. But what we want to \n",
    "know is the TB deaths in each country.Sao Tome and Principe has least death and population. but this can be caused to due to varying population or death can be due to different causes.\n",
    "\n",
    "When we look at the death rate it will give right answer based on the population density.The death rate is a more meaningful measure for comparing the impact of a disease or other health issue across countries with widely different population sizes. When comparing raw numbers of deaths, larger countries will typically have more deaths simply because they have more people. However, the death rate takes into account the size of the population and provides a standardized measure of the risk of dying from a particular cause. By using death rates, we can compare the impact of a disease or other health issue on different populations more accurately, and this can help public health officials and policymakers make informed decisions about how to allocate resources and address the issue.\n",
    "\n",
    "So the country most affected by TB deaths are Timor-Leste and the country least affected is portugal."
   ]
  }
 ],
 "metadata": {
  "kernelspec": {
   "display_name": "Python 3 (ipykernel)",
   "language": "python",
   "name": "python3"
  },
  "language_info": {
   "codemirror_mode": {
    "name": "ipython",
    "version": 3
   },
   "file_extension": ".py",
   "mimetype": "text/x-python",
   "name": "python",
   "nbconvert_exporter": "python",
   "pygments_lexer": "ipython3",
   "version": "3.9.13"
  }
 },
 "nbformat": 4,
 "nbformat_minor": 5
}
